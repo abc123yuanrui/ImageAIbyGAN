{
 "cells": [
  {
   "cell_type": "code",
   "execution_count": 1,
   "metadata": {},
   "outputs": [
    {
     "name": "stdout",
     "output_type": "stream",
     "text": [
      "2019-09-02 12:11:26, exp = 999, load_model path = /home/ryuan/ImageAI/ImageMaster\n",
      "\n",
      "WARNING: The TensorFlow contrib module will not be included in TensorFlow 2.0.\n",
      "For more information, please see:\n",
      "  * https://github.com/tensorflow/community/blob/master/rfcs/20180907-contrib-sunset.md\n",
      "  * https://github.com/tensorflow/addons\n",
      "If you depend on functionality not listed there, please file an issue.\n",
      "\n",
      "WARNING:tensorflow:From /home/ryuan/anaconda3/lib/python3.7/site-packages/tensorflow/python/framework/op_def_library.py:263: colocate_with (from tensorflow.python.framework.ops) is deprecated and will be removed in a future version.\n",
      "Instructions for updating:\n",
      "Colocations handled automatically by placer.\n",
      "WARNING:tensorflow:From /home/ryuan/anaconda3/lib/python3.7/site-packages/tensorflow/python/training/saver.py:1266: checkpoint_exists (from tensorflow.python.training.checkpoint_management) is deprecated and will be removed in a future version.\n",
      "Instructions for updating:\n",
      "Use standard file APIs to check for files with this prefix.\n",
      "INFO:tensorflow:Restoring parameters from /home/ryuan/ImageAI/ImageMaster/model/90.000-new.ckpt\n"
     ]
    }
   ],
   "source": [
    "from ImageMaster import *"
   ]
  },
  {
   "cell_type": "code",
   "execution_count": 2,
   "metadata": {},
   "outputs": [],
   "source": [
    "from main import *"
   ]
  },
  {
   "cell_type": "code",
   "execution_count": 3,
   "metadata": {},
   "outputs": [],
   "source": [
    "import numpy as np\n",
    "import urllib\n",
    "import cv2"
   ]
  },
  {
   "cell_type": "code",
   "execution_count": 9,
   "metadata": {},
   "outputs": [],
   "source": [
    "imglist=['https://images.kaolahome.com/aac9f406-3fd9-485a-83b9-8b569e17cea5-%E5%BA%8A.jpg?x-oss-process=image/resize,w_1024,l_1024']"
   ]
  },
  {
   "cell_type": "code",
   "execution_count": 5,
   "metadata": {},
   "outputs": [
    {
     "ename": "SyntaxError",
     "evalue": "invalid syntax (<ipython-input-5-8d8b94e2736e>, line 2)",
     "output_type": "error",
     "traceback": [
      "\u001b[0;36m  File \u001b[0;32m\"<ipython-input-5-8d8b94e2736e>\"\u001b[0;36m, line \u001b[0;32m2\u001b[0m\n\u001b[0;31m    Jupyter Notebook\u001b[0m\n\u001b[0m                   ^\u001b[0m\n\u001b[0;31mSyntaxError\u001b[0m\u001b[0;31m:\u001b[0m invalid syntax\n"
     ]
    }
   ],
   "source": [
    "\n",
    "Jupyter Notebook\n",
    "Untitled Last Checkpoint: 07/05/2019 (unsaved changes) Current Kernel Logo \n",
    "\n",
    "Python 3\n",
    "\n",
    "    File\n",
    "    Edit\n",
    "    View\n",
    "    Insert\n",
    "    Cell\n",
    "    Kernel\n",
    "    Widgets\n",
    "    Help\n",
    "\n",
    "from ImageMaster import *\n",
    "\n",
    "2019-09-02 11:47:32, exp = 999, load_model path = /home/ryuan/ImageAI/ImageMaster\n",
    "\n",
    "WARNING: The TensorFlow contrib module will not be included in TensorFlow 2.0.\n",
    "For more information, please see:\n",
    "  * https://github.com/tensorflow/community/blob/master/rfcs/20180907-contrib-sunset.md\n",
    "  * https://github.com/tensorflow/addons\n",
    "If you depend on functionality not listed there, please file an issue.\n",
    "\n",
    "WARNING:tensorflow:From /home/ryuan/anaconda3/lib/python3.7/site-packages/tensorflow/python/framework/op_def_library.py:263: colocate_with (from tensorflow.python.framework.ops) is deprecated and will be removed in a future version.\n",
    "Instructions for updating:\n",
    "Colocations handled automatically by placer.\n",
    "WARNING:tensorflow:From /home/ryuan/anaconda3/lib/python3.7/site-packages/tensorflow/python/training/saver.py:1266: checkpoint_exists (from tensorflow.python.training.checkpoint_management) is deprecated and will be removed in a future version.\n",
    "Instructions for updating:\n",
    "Use standard file APIs to check for files with this prefix.\n",
    "INFO:tensorflow:Restoring parameters from /home/ryuan/ImageAI/ImageMaster/model/90.000-new.ckpt\n",
    "\n",
    "from main import *\n",
    "\n",
    "import numpy as np\n",
    "\n",
    "import urllib\n",
    "\n",
    "import cv2\n",
    "\n",
    "imglist=['https://images.kaolahome.com/aac9f406-3fd9-485a-83b9-8b569e17cea5-%E5%BA%8A.jpg?x-oss-process=image/resize,w_1024,l_1024\n",
    "\n",
    "        ]imglists = GANProcessor(imglist)"
   ]
  },
  {
   "cell_type": "code",
   "execution_count": 8,
   "metadata": {},
   "outputs": [
    {
     "ename": "TypeError",
     "evalue": "Expected cv::UMat for argument 'mat'",
     "output_type": "error",
     "traceback": [
      "\u001b[0;31m---------------------------------------------------------------------------\u001b[0m",
      "\u001b[0;31mTypeError\u001b[0m                                 Traceback (most recent call last)",
      "\u001b[0;32m<ipython-input-8-6c4accc211fc>\u001b[0m in \u001b[0;36m<module>\u001b[0;34m\u001b[0m\n\u001b[0;32m----> 1\u001b[0;31m \u001b[0mcv2\u001b[0m\u001b[0;34m.\u001b[0m\u001b[0mimshow\u001b[0m\u001b[0;34m(\u001b[0m\u001b[0;34m'HelloWorld'\u001b[0m\u001b[0;34m,\u001b[0m \u001b[0mimglists\u001b[0m\u001b[0;34m[\u001b[0m\u001b[0;36m0\u001b[0m\u001b[0;34m]\u001b[0m\u001b[0;34m)\u001b[0m\u001b[0;34m\u001b[0m\u001b[0;34m\u001b[0m\u001b[0m\n\u001b[0m",
      "\u001b[0;31mTypeError\u001b[0m: Expected cv::UMat for argument 'mat'"
     ]
    }
   ],
   "source": [
    "cv2.imshow('HelloWorld', imglists[0])"
   ]
  },
  {
   "cell_type": "code",
   "execution_count": null,
   "metadata": {},
   "outputs": [],
   "source": [
    "import numpy as np\n",
    "import os, sys\n",
    "import urllib\n",
    "import cv2\n",
    "from TF import *\n",
    "# METHOD #1: OpenCV, NumPy, and urllib\n",
    "def url_to_image(url):\n",
    "    # download the image, convert it to a NumPy array, and then read\n",
    "    # it into OpenCV format\n",
    "    resp = urllib.request.urlopen(url)\n",
    "    image = np.asarray(bytearray(resp.read()), dtype=\"uint8\")\n",
    "    image = cv2.imdecode(image, cv2.IMREAD_COLOR)\n",
    "\n",
    "    # return the image\n",
    "    return image\n",
    "def GANProcessor(imglist):\n",
    "    counter=0   #for test\n",
    "    imgs_out=[]\n",
    "    for img_path in imglist:\n",
    "        counter = counter+1\n",
    "        url = img_path\n",
    "        img_in = url_to_image(url)\n",
    "        img_out = processImg(img_in)\n",
    "        cv2.imwrite(str(counter)+'.png', img_out) #for test\n",
    "        imgs_out.append(img_out)\n",
    "        print(str(counter)+'image processed')\n",
    "    return imgs_out\n"
   ]
  },
  {
   "cell_type": "code",
   "execution_count": 3,
   "metadata": {},
   "outputs": [
    {
     "name": "stdout",
     "output_type": "stream",
     "text": [
      "['/home/ryuan/ImageAI/ImageMaster', '/home/ryuan/anaconda3/lib/python37.zip', '/home/ryuan/anaconda3/lib/python3.7', '/home/ryuan/anaconda3/lib/python3.7/lib-dynload', '', '/home/ryuan/anaconda3/lib/python3.7/site-packages', '/home/ryuan/anaconda3/lib/python3.7/site-packages/OpenEXR-1.3.2-py3.7-linux-x86_64.egg', '/home/ryuan/anaconda3/lib/python3.7/site-packages/IPython/extensions', '/home/ryuan/.ipython']\n"
     ]
    }
   ],
   "source": [
    "import sys\n",
    "print(sys.path)"
   ]
  },
  {
   "cell_type": "code",
   "execution_count": null,
   "metadata": {},
   "outputs": [],
   "source": [
    "from flask import Flask, jsonify, request\n",
    "from ImageMaster import GANProcessor\n",
    "from flask_cors import CORS, cross_origin\n",
    "app = Flask(__name__)\n",
    "CORS(app)\n",
    "app.config['CORS_HEADERS'] = 'Content-Type'\n",
    "\n",
    "\n",
    "@app.route(\"/\")\n",
    "def hello():\n",
    "    return \"Hello RuiYuan!\"\n",
    "\n",
    "@app.route(\"/ImgProcess\", methods=[\"POST\"])\n",
    "@cross_origin()\n",
    "def sage_score():\n",
    "    jsonData = request.get_json()\n",
    "    if not jsonData:\n",
    "        return jsonify({'error': 'No data provided.'}), 400\n",
    "    imgListin = jsonData.get('imgList')\n",
    "    if not imgListin:\n",
    "        return jsonify({'error': 'No image provided.'}), 400\n",
    "    imgListout = GANProcessor(imgListin);\n",
    "    return jsonify({\n",
    "        'rocessed_imgList': imgListout\n",
    "    })\n",
    "\n",
    "if __name__ == \"__main__\":\n",
    "    # Only for debugging while developing\n",
    "    app.run(host='0.0.0.0', debug=True, port=80)\n",
    "\n",
    "    \n",
    "    \n",
    "    \n",
    "    import sys\n",
    "sys.path.append('/home/ryuan/ImageAI/ImageMaster')"
   ]
  },
  {
   "cell_type": "code",
   "execution_count": 3,
   "metadata": {},
   "outputs": [],
   "source": [
    "from ImageMaster import GANProcessor"
   ]
  },
  {
   "cell_type": "code",
   "execution_count": 4,
   "metadata": {},
   "outputs": [],
   "source": [
    "imglist=[\"https://images.kaolahome.com/db99aab3-5b52-45b4-b500-38ac4703c360-download%20%286%29.png?x-oss-process=image/resize,w_1024,l_1024\"\n",
    "        ]"
   ]
  },
  {
   "cell_type": "code",
   "execution_count": 5,
   "metadata": {},
   "outputs": [
    {
     "name": "stdout",
     "output_type": "stream",
     "text": [
      "2019-09-02 12:11:50, [normalizeImage]\n",
      "2019-09-02 12:11:50, original shape = [768, 1024, 3]\n",
      "need resize!!!\n",
      "1image processed\n"
     ]
    }
   ],
   "source": [
    "imglists = GANProcessor(imglist)"
   ]
  },
  {
   "cell_type": "code",
   "execution_count": 26,
   "metadata": {},
   "outputs": [],
   "source": [
    "from urllib.request import urlopen, Request\n",
    "headers = {'User-Agent': 'Mozilla/5.0 (Windows NT 6.1) AppleWebKit/537.36 (KHTML, like Gecko) Chrome/41.0.2228.0 Safari/537.3' }\n",
    "reg_url = \"https://images.kaolahome.com/db99aab3-5b52-45b4-b500-38ac4703c360-download%20%286%29.png?x-oss-process=image/resize,w_1024,l_1024\"\n",
    "req = Request(url=reg_url, headers=headers)\n",
    "image = np.asarray(bytearray(urlopen(req).read()), dtype=\"uint8\")\n",
    "image = cv2.imdecode(image, cv2.IMREAD_COLOR)"
   ]
  },
  {
   "cell_type": "code",
   "execution_count": null,
   "metadata": {},
   "outputs": [],
   "source": []
  }
 ],
 "metadata": {
  "kernelspec": {
   "display_name": "Python 3",
   "language": "python",
   "name": "python3"
  },
  "language_info": {
   "codemirror_mode": {
    "name": "ipython",
    "version": 3
   },
   "file_extension": ".py",
   "mimetype": "text/x-python",
   "name": "python",
   "nbconvert_exporter": "python",
   "pygments_lexer": "ipython3",
   "version": "3.7.3"
  }
 },
 "nbformat": 4,
 "nbformat_minor": 2
}
